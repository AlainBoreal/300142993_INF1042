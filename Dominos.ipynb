{
 "cells": [
  {
   "cell_type": "code",
   "execution_count": 7,
   "id": "4dda2d61-ff0a-458b-9f14-5ce7d34b8295",
   "metadata": {},
   "outputs": [
    {
     "name": "stdout",
     "output_type": "stream",
     "text": [
      "face a : 1 face b : 4\n",
      "face a : 5 face b : 2\n",
      "total des points : 12\n",
      "[[4|0], [4|1], [4|2], [4|3], [4|4], [4|5], [4|6]]\n"
     ]
    }
   ],
   "source": [
    "class domino:\n",
    "    def __init__(self, face_a=0, face_b=0):\n",
    "        self.face_a = face_a\n",
    "        self.face_b = face_b\n",
    "\n",
    "    def affiche_points(self):\n",
    "        print(f\"face a : {self.face_a} face b : {self.face_b}\")\n",
    "\n",
    "    def valeur(self):\n",
    "        return self.face_a + self.face_b\n",
    "\n",
    "    def __repr__(self):\n",
    "        return f\"[{self.face_a}|{self.face_b}]\"\n",
    "\n",
    "d1 = domino(1, 4)\n",
    "d2 = domino(5, 2)\n",
    "\n",
    "d1.affiche_points()\n",
    "d2.affiche_points()\n",
    "print(\"total des points :\", d1.valeur() + d2.valeur())\n",
    "\n",
    "liste_dominos = []\n",
    "for i in range(7):\n",
    "    liste_dominos.append(domino(4, i))\n",
    "print(liste_dominos)"
   ]
  },
  {
   "cell_type": "code",
   "execution_count": null,
   "id": "6918daff-c706-43ad-ad31-b9fd5f29ecce",
   "metadata": {},
   "outputs": [],
   "source": []
  },
  {
   "cell_type": "code",
   "execution_count": null,
   "id": "d512e756-2f03-4e94-a71d-1cea0a0981ab",
   "metadata": {},
   "outputs": [],
   "source": []
  }
 ],
 "metadata": {
  "kernelspec": {
   "display_name": "anaconda-ai-2024.04-py310",
   "language": "python",
   "name": "conda-env-anaconda-ai-2024.04-py310-py"
  },
  "language_info": {
   "codemirror_mode": {
    "name": "ipython",
    "version": 3
   },
   "file_extension": ".py",
   "mimetype": "text/x-python",
   "name": "python",
   "nbconvert_exporter": "python",
   "pygments_lexer": "ipython3",
   "version": "3.10.13"
  }
 },
 "nbformat": 4,
 "nbformat_minor": 5
}
