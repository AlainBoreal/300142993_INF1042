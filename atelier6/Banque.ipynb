{
 "cells": [
  {
   "cell_type": "code",
   "execution_count": 3,
   "id": "bc1aba70-4411-4550-ac6f-fccf036f3d6a",
   "metadata": {},
   "outputs": [
    {
     "name": "stdout",
     "output_type": "stream",
     "text": [
      "Titulaire : Dupont, Solde : 1000 euros\n",
      "500 ajouté au compte.\n",
      "Titulaire : Dupont, Solde : 1500 euros\n",
      "200 retiré du compte.\n",
      "Titulaire : Dupont, Solde : 1300 euros\n",
      "Titulaire : Martin, Solde : 2000 euros\n"
     ]
    }
   ],
   "source": [
    "class CompteBancaire:\n",
    "    def __init__(self, nom='Dupont', solde=1000):\n",
    "        self.nom = nom\n",
    "        self.solde = solde\n",
    "\n",
    "    def depot(self, somme):\n",
    "        if somme > 0:\n",
    "            self.solde += somme\n",
    "            print(f\"{somme} ajouté au compte.\")\n",
    "        else:\n",
    "            print(\"Le montant du dépôt doit être positif.\")\n",
    "\n",
    "    def retrait(self, somme):\n",
    "        if somme > 0:\n",
    "            if somme <= self.solde:\n",
    "                self.solde -= somme\n",
    "                print(f\"{somme} retiré du compte.\")\n",
    "            else:\n",
    "                print(\"Fonds insuffisants.\")\n",
    "        else:\n",
    "            print(\"Le montant du retrait doit être positif.\")\n",
    "\n",
    "    def affiche(self):\n",
    "        print(f\"Titulaire : {self.nom}, Solde : {self.solde} euros\")\n",
    "\n",
    "# Exemple d'utilisation\n",
    "compte1 = CompteBancaire()\n",
    "compte1.affiche()\n",
    "\n",
    "compte1.depot(500)\n",
    "compte1.affiche()\n",
    "\n",
    "compte1.retrait(200)\n",
    "compte1.affiche()\n",
    "\n",
    "compte2 = CompteBancaire(nom=\"Martin\", solde=2000)\n",
    "compte2.affiche()"
   ]
  },
  {
   "cell_type": "code",
   "execution_count": null,
   "id": "72cf6944-82df-4209-a94d-53e75cf2bac4",
   "metadata": {},
   "outputs": [],
   "source": []
  }
 ],
 "metadata": {
  "kernelspec": {
   "display_name": "anaconda-ai-2024.04-py310",
   "language": "python",
   "name": "conda-env-anaconda-ai-2024.04-py310-py"
  },
  "language_info": {
   "codemirror_mode": {
    "name": "ipython",
    "version": 3
   },
   "file_extension": ".py",
   "mimetype": "text/x-python",
   "name": "python",
   "nbconvert_exporter": "python",
   "pygments_lexer": "ipython3",
   "version": "3.10.13"
  }
 },
 "nbformat": 4,
 "nbformat_minor": 5
}
