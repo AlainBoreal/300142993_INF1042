{
 "cells": [
  {
   "cell_type": "code",
   "execution_count": 3,
   "id": "9c92ae80-fe3c-4aeb-80ec-0f1794b76fd5",
   "metadata": {},
   "outputs": [
    {
     "name": "stdout",
     "output_type": "stream",
     "text": [
      "Marque : Ford\n",
      "Couleur : rouge\n",
      "Pilote : personne\n",
      "Vitesse : 0.00 m/s\n",
      "La vitesse a été modifiée de 26.00 m/s.\n",
      "Marque : Ford\n",
      "Couleur : rouge\n",
      "Pilote : Alice\n",
      "Vitesse : 26.00 m/s\n",
      "Marque : Tesla\n",
      "Couleur : bleu\n",
      "Pilote : personne\n",
      "Vitesse : 0.00 m/s\n",
      "Impossible d'accélérer : aucun conducteur n'est désigné.\n",
      "La vitesse a été modifiée de 20.00 m/s.\n",
      "Marque : Tesla\n",
      "Couleur : bleu\n",
      "Pilote : Bob\n",
      "Vitesse : 20.00 m/s\n"
     ]
    }
   ],
   "source": [
    "class Voiture:\n",
    "    def __init__(self, marque='Ford', couleur='rouge'):\n",
    "        self.marque = marque\n",
    "        self.couleur = couleur\n",
    "        self.pilote = 'personne'\n",
    "        self.vitesse = 0\n",
    "\n",
    "    def choix_conducteur(self, nom):\n",
    "        \"\"\"Permet de désigner ou changer le nom du conducteur.\"\"\"\n",
    "        self.pilote = nom\n",
    "\n",
    "    def accelerer(self, taux, duree):\n",
    "        if self.pilote == 'personne':\n",
    "            print(\"Impossible d'accélérer : aucun conducteur n'est désigné.\")\n",
    "            return\n",
    "\n",
    "        variation = taux * duree\n",
    "        self.vitesse += variation\n",
    "        print(f\"La vitesse a été modifiée de {variation:.2f} m/s.\")\n",
    "\n",
    "    def affiche_tout(self):\n",
    "        \"\"\"Affiche les propriétés actuelles de la voiture.\"\"\"\n",
    "        print(f\"Marque : {self.marque}\")\n",
    "        print(f\"Couleur : {self.couleur}\")\n",
    "        print(f\"Pilote : {self.pilote}\")\n",
    "        print(f\"Vitesse : {self.vitesse:.2f} m/s\")\n",
    "\n",
    "# Exemples d'utilisation\n",
    "voiture1 = Voiture()\n",
    "voiture1.affiche_tout()\n",
    "voiture1.choix_conducteur(\"Alice\")\n",
    "voiture1.accelerer(1.3, 20)\n",
    "voiture1.affiche_tout()\n",
    "\n",
    "voiture2 = Voiture(\"Tesla\", \"bleu\")\n",
    "voiture2.affiche_tout()\n",
    "voiture2.accelerer(2.0, 10)  # Pas de conducteur désigné\n",
    "voiture2.choix_conducteur(\"Bob\")\n",
    "voiture2.accelerer(2.0, 10)\n",
    "voiture2.affiche_tout()\n"
   ]
  },
  {
   "cell_type": "code",
   "execution_count": null,
   "id": "230a8d12-4645-4046-8170-3632b7c12621",
   "metadata": {},
   "outputs": [],
   "source": []
  }
 ],
 "metadata": {
  "kernelspec": {
   "display_name": "anaconda-ai-2024.04-py310",
   "language": "python",
   "name": "conda-env-anaconda-ai-2024.04-py310-py"
  },
  "language_info": {
   "codemirror_mode": {
    "name": "ipython",
    "version": 3
   },
   "file_extension": ".py",
   "mimetype": "text/x-python",
   "name": "python",
   "nbconvert_exporter": "python",
   "pygments_lexer": "ipython3",
   "version": "3.10.13"
  }
 },
 "nbformat": 4,
 "nbformat_minor": 5
}
